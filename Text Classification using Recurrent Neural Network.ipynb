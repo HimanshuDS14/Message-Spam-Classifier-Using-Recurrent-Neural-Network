{
 "cells": [
  {
   "cell_type": "code",
   "execution_count": 5,
   "metadata": {},
   "outputs": [],
   "source": [
    "import pandas as pd\n",
    "import numpy as np\n",
    "import matplotlib.pyplot as plt\n",
    "import seaborn as sns\n",
    "from sklearn.model_selection import train_test_split\n",
    "from sklearn.preprocessing import LabelEncoder\n",
    "from keras.models import Model\n",
    "from keras.layers import LSTM , Activation , Dense , Dropout , Input , Embedding\n",
    "from keras.optimizers import RMSprop\n",
    "from keras.preprocessing.text import Tokenizer\n",
    "from keras.preprocessing import sequence\n",
    "from keras.utils import to_categorical\n",
    "from keras.callbacks import EarlyStopping\n"
   ]
  },
  {
   "cell_type": "code",
   "execution_count": 2,
   "metadata": {},
   "outputs": [
    {
     "data": {
      "text/html": [
       "<div>\n",
       "<style scoped>\n",
       "    .dataframe tbody tr th:only-of-type {\n",
       "        vertical-align: middle;\n",
       "    }\n",
       "\n",
       "    .dataframe tbody tr th {\n",
       "        vertical-align: top;\n",
       "    }\n",
       "\n",
       "    .dataframe thead th {\n",
       "        text-align: right;\n",
       "    }\n",
       "</style>\n",
       "<table border=\"1\" class=\"dataframe\">\n",
       "  <thead>\n",
       "    <tr style=\"text-align: right;\">\n",
       "      <th></th>\n",
       "      <th>label</th>\n",
       "      <th>message</th>\n",
       "    </tr>\n",
       "  </thead>\n",
       "  <tbody>\n",
       "    <tr>\n",
       "      <th>0</th>\n",
       "      <td>ham</td>\n",
       "      <td>Go until jurong point, crazy.. Available only ...</td>\n",
       "    </tr>\n",
       "    <tr>\n",
       "      <th>1</th>\n",
       "      <td>ham</td>\n",
       "      <td>Ok lar... Joking wif u oni...</td>\n",
       "    </tr>\n",
       "    <tr>\n",
       "      <th>2</th>\n",
       "      <td>spam</td>\n",
       "      <td>Free entry in 2 a wkly comp to win FA Cup fina...</td>\n",
       "    </tr>\n",
       "    <tr>\n",
       "      <th>3</th>\n",
       "      <td>ham</td>\n",
       "      <td>U dun say so early hor... U c already then say...</td>\n",
       "    </tr>\n",
       "    <tr>\n",
       "      <th>4</th>\n",
       "      <td>ham</td>\n",
       "      <td>Nah I don't think he goes to usf, he lives aro...</td>\n",
       "    </tr>\n",
       "    <tr>\n",
       "      <th>5</th>\n",
       "      <td>spam</td>\n",
       "      <td>FreeMsg Hey there darling it's been 3 week's n...</td>\n",
       "    </tr>\n",
       "    <tr>\n",
       "      <th>6</th>\n",
       "      <td>ham</td>\n",
       "      <td>Even my brother is not like to speak with me. ...</td>\n",
       "    </tr>\n",
       "    <tr>\n",
       "      <th>7</th>\n",
       "      <td>ham</td>\n",
       "      <td>As per your request 'Melle Melle (Oru Minnamin...</td>\n",
       "    </tr>\n",
       "    <tr>\n",
       "      <th>8</th>\n",
       "      <td>spam</td>\n",
       "      <td>WINNER!! As a valued network customer you have...</td>\n",
       "    </tr>\n",
       "    <tr>\n",
       "      <th>9</th>\n",
       "      <td>spam</td>\n",
       "      <td>Had your mobile 11 months or more? U R entitle...</td>\n",
       "    </tr>\n",
       "  </tbody>\n",
       "</table>\n",
       "</div>"
      ],
      "text/plain": [
       "  label                                            message\n",
       "0   ham  Go until jurong point, crazy.. Available only ...\n",
       "1   ham                      Ok lar... Joking wif u oni...\n",
       "2  spam  Free entry in 2 a wkly comp to win FA Cup fina...\n",
       "3   ham  U dun say so early hor... U c already then say...\n",
       "4   ham  Nah I don't think he goes to usf, he lives aro...\n",
       "5  spam  FreeMsg Hey there darling it's been 3 week's n...\n",
       "6   ham  Even my brother is not like to speak with me. ...\n",
       "7   ham  As per your request 'Melle Melle (Oru Minnamin...\n",
       "8  spam  WINNER!! As a valued network customer you have...\n",
       "9  spam  Had your mobile 11 months or more? U R entitle..."
      ]
     },
     "execution_count": 2,
     "metadata": {},
     "output_type": "execute_result"
    }
   ],
   "source": [
    "data = pd.read_csv(\"SMSSpamCollection.txt\" , sep='\\t' , names = [\"label\" , \"message\"])\n",
    "data.head(10)"
   ]
  },
  {
   "cell_type": "code",
   "execution_count": 6,
   "metadata": {},
   "outputs": [
    {
     "data": {
      "text/plain": [
       "<matplotlib.axes._subplots.AxesSubplot at 0x1d7133dbf60>"
      ]
     },
     "execution_count": 6,
     "metadata": {},
     "output_type": "execute_result"
    },
    {
     "data": {
      "image/png": "[encoded data removed]",
      "text/plain": [
       "<Figure size 432x288 with 1 Axes>"
      ]
     },
     "metadata": {},
     "output_type": "display_data"
    }
   ],
   "source": [
    "sns.countplot(data['label'])"
   ]
  },
  {
   "cell_type": "code",
   "execution_count": 15,
   "metadata": {},
   "outputs": [],
   "source": [
    "x = data.message\n",
    "y = data.label"
   ]
  },
  {
   "cell_type": "code",
   "execution_count": 16,
   "metadata": {},
   "outputs": [],
   "source": [
    "l = LabelEncoder()\n",
    "y = l.fit_transform(y)\n",
    "y = y.reshape(-1,1)"
   ]
  },
  {
   "cell_type": "code",
   "execution_count": 17,
   "metadata": {},
   "outputs": [
    {
     "data": {
      "text/plain": [
       "array([[0],\n",
       "       [0],\n",
       "       [1],\n",
       "       ...,\n",
       "       [0],\n",
       "       [0],\n",
       "       [0]])"
      ]
     },
     "execution_count": 17,
     "metadata": {},
     "output_type": "execute_result"
    }
   ],
   "source": [
    "y"
   ]
  },
  {
   "cell_type": "code",
   "execution_count": 18,
   "metadata": {},
   "outputs": [
    {
     "data": {
      "text/plain": [
       "3061             K..k...from tomorrow onwards started ah?\n",
       "5444    Good morning. At the repair shop--the ONLY rea...\n",
       "4738    Nt only for driving even for many reasons she ...\n",
       "2267    <Forwarded from 88877>FREE entry into our £250...\n",
       "4453    I've told you everything will stop. Just dont ...\n",
       "1285                         But if she.s drinkin i'm ok.\n",
       "4329    Congrats! 2 mobile 3G Videophones R yours. cal...\n",
       "3167    HOT LIVE FANTASIES call now 08707509020 Just 2...\n",
       "195     How are you doing? Hope you've settled in for ...\n",
       "3616    I enjoy watching and playing football and bask...\n",
       "598     You have an important customer service announc...\n",
       "4661    You call him and tell now infront of them. Cal...\n",
       "14                    I HAVE A DATE ON SUNDAY WITH WILL!!\n",
       "2636         Tiwary to rcb.battle between bang and kochi.\n",
       "3373               And now electricity just went out fml.\n",
       "4995           My drive can only be read. I need to write\n",
       "3266    44 7732584351, Do you want a New Nokia 3510i c...\n",
       "1979    No I'm in the same boat. Still here at my moms...\n",
       "4202    Wylie update: my weed dealer carlos went to fr...\n",
       "4362    Don't Think About \"What u Have Got\" Think Abou...\n",
       "4316                             Captain is in our room:)\n",
       "4670    When I was born, GOD said, \"Oh No! Another IDI...\n",
       "2368    V nice! Off 2 sheffield tom 2 air my opinions ...\n",
       "4767                               Whens your radio show?\n",
       "5547    Had your contract mobile 11 Mnths? Latest Moto...\n",
       "158     Hello, my love. What are you doing? Did you ge...\n",
       "3435    Sending you greetings of joy and happiness. Do...\n",
       "1800         If we hit it off, you can move in with me :)\n",
       "124     I am going to sao mu today. Will be done only ...\n",
       "2689    Yes I know the cheesy songs from frosty the sn...\n",
       "                              ...                        \n",
       "423                              Siva is in hostel aha:-.\n",
       "3219      Don know:)this week i'm going to tirunelvai da.\n",
       "659     It doesnt make sense to take it there unless i...\n",
       "797     Orange customer, you may now claim your FREE C...\n",
       "755     Realy sorry-i don't recognise this number and ...\n",
       "2008    Hi here. have birth at on the  to  at 8lb 7oz....\n",
       "99                        I see a cup of coffee animation\n",
       "2496    WINNER! As a valued network customer you hvae ...\n",
       "1871                   Aight, I'll text you when I'm back\n",
       "2046    Okay... I booked all already... Including the ...\n",
       "4851    Maybe you should find something else to do ins...\n",
       "5072                              As in different styles?\n",
       "2163    1) Go to write msg 2) Put on Dictionary mode 3...\n",
       "2893    Babe? You said 2 hours and it's been almost 4 ...\n",
       "537     Probably gonna be here for a while, see you la...\n",
       "1701                      Please ask mummy to call father\n",
       "2897    pdate_Now - Double mins and 1000 txts on Orang...\n",
       "2222    I notice you like looking in the shit mirror y...\n",
       "2135    If he started searching he will get job in few...\n",
       "2599                                     Okie... Thanx...\n",
       "705     True dear..i sat to pray evening and felt so.s...\n",
       "3468    URGENT! We are trying to contact U. Todays dra...\n",
       "4373    Ur balance is now £600. Next question: Complet...\n",
       "1033                           HAPPY NEW YEAR MY NO.1 MAN\n",
       "4859                                                Ok...\n",
       "4931    Hi, the SEXYCHAT girls are waiting for you to ...\n",
       "3264                              So u gonna get deus ex?\n",
       "1653    For ur chance to win a £250 cash every wk TXT:...\n",
       "2607    R U &SAM P IN EACHOTHER. IF WE MEET WE CAN GO ...\n",
       "2732    Mm feeling sleepy. today itself i shall get th...\n",
       "Name: message, Length: 4736, dtype: object"
      ]
     },
     "execution_count": 18,
     "metadata": {},
     "output_type": "execute_result"
    }
   ],
   "source": [
    "train_x , test_x , train_y , test_y = train_test_split(x,y,test_size = 0.15 , random_state = 0)\n",
    "train_x\n",
    "\n"
   ]
  },
  {
   "cell_type": "code",
   "execution_count": 23,
   "metadata": {},
   "outputs": [],
   "source": [
    "tok = Tokenizer(num_words=1000)\n",
    "tok.fit_on_texts(train_x)\n",
    "sequences = tok.texts_to_sequences(train_x)\n",
    "sequence_matrix = sequence.pad_sequences(sequences , maxlen=150)"
   ]
  },
  {
   "cell_type": "code",
   "execution_count": 24,
   "metadata": {},
   "outputs": [
    {
     "data": {
      "text/plain": [
       "array([[  0,   0,   0, ..., 162, 576, 342],\n",
       "       [  0,   0,   0, ...,  30,  42, 453],\n",
       "       [  0,   0,   0, ...,   7, 107, 320],\n",
       "       ...,\n",
       "       [  0,   0,   0, ..., 139, 364, 347],\n",
       "       [  0,   0,   0, ...,  19,  11, 348],\n",
       "       [  0,   0,   0, ...,  36,  20, 109]])"
      ]
     },
     "execution_count": 24,
     "metadata": {},
     "output_type": "execute_result"
    }
   ],
   "source": [
    "sequence_matrix"
   ]
  },
  {
   "cell_type": "code",
   "execution_count": 25,
   "metadata": {},
   "outputs": [],
   "source": [
    "def RNN():\n",
    "    inputs = Input(name = 'inputs' , shape = [150])\n",
    "    layer = Embedding(1000 , 50 , input_length=150)(inputs)\n",
    "    layer = LSTM(64)(layer)\n",
    "    layer = Dense(256 , name = 'FC1')(layer)\n",
    "    layer = Activation('relu')(layer)\n",
    "    layer = Dropout(0.5)(layer)\n",
    "    layer = Dense(1 , name = 'out_layer')(layer)\n",
    "    layer = Activation('sigmoid')(layer)\n",
    "    model = Model(inputs = inputs , output = layer)\n",
    "    \n",
    "    return model"
   ]
  },
  {
   "cell_type": "code",
   "execution_count": 26,
   "metadata": {},
   "outputs": [
    {
     "name": "stdout",
     "output_type": "stream",
     "text": [
      "Model: \"model_1\"\n",
      "_________________________________________________________________\n",
      "Layer (type)                 Output Shape              Param #   \n",
      "=================================================================\n",
      "inputs (InputLayer)          (None, 150)               0         \n",
      "_________________________________________________________________\n",
      "embedding_1 (Embedding)      (None, 150, 50)           50000     \n",
      "_________________________________________________________________\n",
      "lstm_1 (LSTM)                (None, 64)                29440     \n",
      "_________________________________________________________________\n",
      "FC1 (Dense)                  (None, 256)               16640     \n",
      "_________________________________________________________________\n",
      "activation_1 (Activation)    (None, 256)               0         \n",
      "_________________________________________________________________\n",
      "dropout_1 (Dropout)          (None, 256)               0         \n",
      "_________________________________________________________________\n",
      "out_layer (Dense)            (None, 1)                 257       \n",
      "_________________________________________________________________\n",
      "activation_2 (Activation)    (None, 1)                 0         \n",
      "=================================================================\n",
      "Total params: 96,337\n",
      "Trainable params: 96,337\n",
      "Non-trainable params: 0\n",
      "_________________________________________________________________\n"
     ]
    },
    {
     "name": "stderr",
     "output_type": "stream",
     "text": [
      "E:\\Anaconda3\\lib\\site-packages\\ipykernel_launcher.py:10: UserWarning: Update your `Model` call to the Keras 2 API: `Model(inputs=Tensor(\"in..., outputs=Tensor(\"ac...)`\n",
      "  # Remove the CWD from sys.path while we load stuff.\n"
     ]
    }
   ],
   "source": [
    "model = RNN()\n",
    "model.summary()"
   ]
  },
  {
   "cell_type": "code",
   "execution_count": 27,
   "metadata": {},
   "outputs": [],
   "source": [
    "model.compile(loss = 'binary_crossentropy' , optimizer=RMSprop() , metrics=['accuracy'])"
   ]
  },
  {
   "cell_type": "code",
   "execution_count": 28,
   "metadata": {},
   "outputs": [
    {
     "name": "stderr",
     "output_type": "stream",
     "text": [
      "E:\\Anaconda3\\lib\\site-packages\\tensorflow_core\\python\\framework\\indexed_slices.py:433: UserWarning: Converting sparse IndexedSlices to a dense Tensor of unknown shape. This may consume a large amount of memory.\n",
      "  \"Converting sparse IndexedSlices to a dense Tensor of unknown shape. \"\n",
      "E:\\Anaconda3\\lib\\site-packages\\tensorflow_core\\python\\framework\\indexed_slices.py:433: UserWarning: Converting sparse IndexedSlices to a dense Tensor of unknown shape. This may consume a large amount of memory.\n",
      "  \"Converting sparse IndexedSlices to a dense Tensor of unknown shape. \"\n"
     ]
    },
    {
     "name": "stdout",
     "output_type": "stream",
     "text": [
      "Epoch 1/10\n",
      "4736/4736 [==============================] - 19s 4ms/step - loss: 0.2734 - accuracy: 0.8967\n",
      "Epoch 2/10\n",
      "4736/4736 [==============================] - 15s 3ms/step - loss: 0.0610 - accuracy: 0.9842\n",
      "Epoch 3/10\n",
      "4736/4736 [==============================] - 15s 3ms/step - loss: 0.0412 - accuracy: 0.9894\n",
      "Epoch 4/10\n",
      "4736/4736 [==============================] - 15s 3ms/step - loss: 0.0329 - accuracy: 0.9907\n",
      "Epoch 5/10\n",
      "4736/4736 [==============================] - 15s 3ms/step - loss: 0.0245 - accuracy: 0.9928\n",
      "Epoch 6/10\n",
      "4736/4736 [==============================] - 15s 3ms/step - loss: 0.0202 - accuracy: 0.9943\n",
      "Epoch 7/10\n",
      "4736/4736 [==============================] - 16s 3ms/step - loss: 0.0157 - accuracy: 0.9956\n",
      "Epoch 8/10\n",
      "4736/4736 [==============================] - 15s 3ms/step - loss: 0.0126 - accuracy: 0.9964\n",
      "Epoch 9/10\n",
      "4736/4736 [==============================] - 16s 3ms/step - loss: 0.0117 - accuracy: 0.9970\n",
      "Epoch 10/10\n",
      "4736/4736 [==============================] - 16s 3ms/step - loss: 0.0104 - accuracy: 0.9970\n"
     ]
    }
   ],
   "source": [
    "history = model.fit(sequence_matrix , train_y , batch_size=128 , epochs=10)"
   ]
  },
  {
   "cell_type": "code",
   "execution_count": 29,
   "metadata": {},
   "outputs": [],
   "source": [
    "test_sequence = tok.texts_to_sequences(test_x)\n",
    "test_sequence_matrix = sequence.pad_sequences(test_sequence , 150)"
   ]
  },
  {
   "cell_type": "code",
   "execution_count": 30,
   "metadata": {},
   "outputs": [
    {
     "name": "stdout",
     "output_type": "stream",
     "text": [
      "836/836 [==============================] - 1s 2ms/step\n"
     ]
    }
   ],
   "source": [
    "acc = model.evaluate(test_sequence_matrix , test_y)"
   ]
  },
  {
   "cell_type": "code",
   "execution_count": 31,
   "metadata": {},
   "outputs": [
    {
     "name": "stdout",
     "output_type": "stream",
     "text": [
      "[0.06669875301052748, 0.9856459498405457]\n"
     ]
    }
   ],
   "source": [
    "print(acc)"
   ]
  },
  {
   "cell_type": "code",
   "execution_count": 48,
   "metadata": {},
   "outputs": [],
   "source": [
    "sample = [\"Go until jurong point, crazy.. Available only ...\"]"
   ]
  },
  {
   "cell_type": "code",
   "execution_count": 49,
   "metadata": {},
   "outputs": [],
   "source": [
    "text = tok.texts_to_sequences(sample)\n",
    "text = sequence.pad_sequences(text , maxlen=150)"
   ]
  },
  {
   "cell_type": "code",
   "execution_count": 50,
   "metadata": {},
   "outputs": [],
   "source": [
    "result = model.predict(text)"
   ]
  },
  {
   "cell_type": "code",
   "execution_count": 51,
   "metadata": {},
   "outputs": [
    {
     "data": {
      "text/plain": [
       "array([[6.155655e-05]], dtype=float32)"
      ]
     },
     "execution_count": 51,
     "metadata": {},
     "output_type": "execute_result"
    }
   ],
   "source": [
    "result"
   ]
  },
  {
   "cell_type": "code",
   "execution_count": 52,
   "metadata": {},
   "outputs": [
    {
     "name": "stdout",
     "output_type": "stream",
     "text": [
      "Ham\n"
     ]
    }
   ],
   "source": [
    "if result > 0.5:\n",
    "    print(\"Spam\")\n",
    "else:\n",
    "    print(\"Ham\")"
   ]
  },
  {
   "cell_type": "raw",
   "metadata": {},
   "source": []
  }
 ],
 "metadata": {
  "kernelspec": {
   "display_name": "Python 3",
   "language": "python",
   "name": "python3"
  },
  "language_info": {
   "codemirror_mode": {
    "name": "ipython",
    "version": 3
   },
   "file_extension": ".py",
   "mimetype": "text/x-python",
   "name": "python",
   "nbconvert_exporter": "python",
   "pygments_lexer": "ipython3",
   "version": "3.6.5"
  }
 },
 "nbformat": 4,
 "nbformat_minor": 2
}
